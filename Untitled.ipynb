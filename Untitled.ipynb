{
 "cells": [
  {
   "cell_type": "code",
   "execution_count": 1,
   "id": "250aa71a-116d-4985-a82f-14f2cbb66163",
   "metadata": {},
   "outputs": [],
   "source": [
    "import numpy as np\n",
    "import polars as pl\n",
    "\n",
    "from numba import jit\n",
    "from functools import partial\n",
    "from scipy.optimize import minimize\n",
    "from typing import Union, Callable, List"
   ]
  },
  {
   "cell_type": "code",
   "execution_count": 2,
   "id": "2a4721c1-3205-486a-ae9d-954f6ffac82c",
   "metadata": {},
   "outputs": [],
   "source": [
    "def pdf(x, par): \n",
    "    beta = par[0]\n",
    "    c = par[1]\n",
    "    a = par[2]\n",
    "    \n",
    "    return a * beta * c * np.exp(-(beta*x)**c) * (beta*x)**(c-1) * (1 - np.exp(-(beta*x)**c))**(a-1)"
   ]
  },
  {
   "cell_type": "code",
   "execution_count": 6,
   "id": "9d11554c-afe5-4cf7-876a-5109a46b36b6",
   "metadata": {},
   "outputs": [],
   "source": [
    "class Adequacy:\n",
    "    def __init__(self, x: Union[np.ndarray, list]):\n",
    "        self.x = np.array(x) if isinstance(x, list) else x\n",
    "        self.n = len(x)\n",
    "\n",
    "    def descriptive(self):\n",
    "        return pl.Series(self.x).describe()\n",
    "\n",
    "    @jit(nopython=True)\n",
    "    def cramer_anderson(self, cd_val):\n",
    "        summation_cramer = summation_anderson = 0.0\n",
    "        for pos in range(start=1, stop=self.n + 1):\n",
    "            previous = pos - 1\n",
    "            summation_cramer += ((2 * pos - 1) / (2 * self.n) - cd_val[previous]) ^ 2\n",
    "\n",
    "            summation_anderson += (2 * pos - 1) * np.log(cd_val[previous]) + (\n",
    "                2 * (self.n - pos) + 1\n",
    "            ) * np.log(1 - cd_val[previous])\n",
    "\n",
    "        return (\n",
    "            1 / (12 * self.n) + summation_cramer,\n",
    "            -self.n - summation_anderson / self.n,\n",
    "        )\n",
    "\n",
    "    def good(\n",
    "        self, pdf, x0, method\n",
    "    ):  # cdf=None, x0, method, domain=None, mle=None, **kwargs):\n",
    "        hood = lambda comp, x: -sum(pdf(x, comp))\n",
    "\n",
    "        res = minimize(\n",
    "            fun=hood, x0=x0, args=self.x, method=method, options={\"disp\": True}\n",
    "        )\n",
    "\n",
    "        return res\n"
   ]
  },
  {
   "cell_type": "code",
   "execution_count": 7,
   "id": "4cd34de5-ba13-4bec-acf9-37b4979b2d8b",
   "metadata": {},
   "outputs": [],
   "source": [
    "adeq = Adequacy([1, 2, 3, 2, 3, 4])"
   ]
  },
  {
   "cell_type": "code",
   "execution_count": 8,
   "id": "28fdf5a5-cf3d-4d37-861c-4442bf0d490a",
   "metadata": {},
   "outputs": [
    {
     "name": "stdout",
     "output_type": "stream",
     "text": [
      "Optimization terminated successfully.\n",
      "         Current function value: -0.000000\n",
      "         Iterations: 34\n",
      "         Function evaluations: 704\n",
      "         Gradient evaluations: 176\n"
     ]
    },
    {
     "name": "stderr",
     "output_type": "stream",
     "text": [
      "/tmp/ipykernel_126788/2320338201.py:6: RuntimeWarning: overflow encountered in power\n",
      "  return a * beta * c * np.exp(-(beta*x)**c) * (beta*x)**(c-1) * (1 - np.exp(-(beta*x)**c))**(a-1)\n",
      "/tmp/ipykernel_126788/2320338201.py:6: RuntimeWarning: invalid value encountered in multiply\n",
      "  return a * beta * c * np.exp(-(beta*x)**c) * (beta*x)**(c-1) * (1 - np.exp(-(beta*x)**c))**(a-1)\n",
      "/tmp/ipykernel_126788/2320338201.py:6: RuntimeWarning: invalid value encountered in power\n",
      "  return a * beta * c * np.exp(-(beta*x)**c) * (beta*x)**(c-1) * (1 - np.exp(-(beta*x)**c))**(a-1)\n",
      "/home/cowvin/.local/lib/python3.10/site-packages/scipy/optimize/_numdiff.py:576: RuntimeWarning: invalid value encountered in subtract\n",
      "  df = fun(x) - f0\n",
      "/tmp/ipykernel_126788/2320338201.py:6: RuntimeWarning: overflow encountered in power\n",
      "  return a * beta * c * np.exp(-(beta*x)**c) * (beta*x)**(c-1) * (1 - np.exp(-(beta*x)**c))**(a-1)\n",
      "/tmp/ipykernel_126788/2320338201.py:6: RuntimeWarning: invalid value encountered in multiply\n",
      "  return a * beta * c * np.exp(-(beta*x)**c) * (beta*x)**(c-1) * (1 - np.exp(-(beta*x)**c))**(a-1)\n"
     ]
    },
    {
     "data": {
      "text/plain": [
       "  message: Optimization terminated successfully.\n",
       "  success: True\n",
       "   status: 0\n",
       "      fun: -0.0\n",
       "        x: [ 2.259e-01  2.574e+05  2.295e+05]\n",
       "      nit: 34\n",
       "      jac: [ 0.000e+00  0.000e+00  0.000e+00]\n",
       " hess_inv: [[ 1.822e-10 -1.616e-04 -1.436e-04]\n",
       "            [-1.616e-04  1.469e+02  1.308e+02]\n",
       "            [-1.436e-04  1.308e+02  1.170e+02]]\n",
       "     nfev: 704\n",
       "     njev: 176"
      ]
     },
     "execution_count": 8,
     "metadata": {},
     "output_type": "execute_result"
    }
   ],
   "source": [
    "adeq.good(pdf=pdf, x0=[1, 2, 3], method=\"BFGS\")"
   ]
  },
  {
   "cell_type": "code",
   "execution_count": null,
   "id": "b6091c14-28bf-4259-b748-85faf4e2c2e2",
   "metadata": {},
   "outputs": [],
   "source": []
  }
 ],
 "metadata": {
  "kernelspec": {
   "display_name": "Python 3 (ipykernel)",
   "language": "python",
   "name": "python3"
  },
  "language_info": {
   "codemirror_mode": {
    "name": "ipython",
    "version": 3
   },
   "file_extension": ".py",
   "mimetype": "text/x-python",
   "name": "python",
   "nbconvert_exporter": "python",
   "pygments_lexer": "ipython3",
   "version": "3.10.12"
  }
 },
 "nbformat": 4,
 "nbformat_minor": 5
}
